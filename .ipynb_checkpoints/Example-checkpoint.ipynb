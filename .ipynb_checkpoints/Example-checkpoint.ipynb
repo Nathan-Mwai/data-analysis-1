{
 "cells": [
  {
   "cell_type": "markdown",
   "id": "79be4034-63f2-423c-a2ec-fcc59695e7cf",
   "metadata": {
    "jp-MarkdownHeadingCollapsed": true
   },
   "source": [
    "# Hello World"
   ]
  },
  {
   "cell_type": "code",
   "execution_count": 5,
   "id": "9edaed70-4d49-4df0-9889-eb7b46224075",
   "metadata": {},
   "outputs": [
    {
     "name": "stdout",
     "output_type": "stream",
     "text": [
      "Hello World\n"
     ]
    }
   ],
   "source": [
    "# printing my name\n",
    "print(\"Hello World\")"
   ]
  },
  {
   "cell_type": "code",
   "execution_count": 2,
   "id": "35150151-9f18-4b0c-9de0-fa8e7c745c54",
   "metadata": {},
   "outputs": [
    {
     "data": {
      "text/plain": [
       "'Hello World'"
      ]
     },
     "execution_count": 2,
     "metadata": {},
     "output_type": "execute_result"
    }
   ],
   "source": [
    "\"Hello World\""
   ]
  },
  {
   "cell_type": "code",
   "execution_count": 4,
   "id": "1082c9b4-5ad3-4780-905d-8789762eaf42",
   "metadata": {},
   "outputs": [
    {
     "name": "stdout",
     "output_type": "stream",
     "text": [
      "19\n"
     ]
    }
   ],
   "source": [
    "# printing my name\n",
    "print(19)"
   ]
  },
  {
   "cell_type": "code",
   "execution_count": null,
   "id": "e6b47809-ce62-40e5-b116-4a88bdd0bbc8",
   "metadata": {},
   "outputs": [],
   "source": []
  },
  {
   "cell_type": "code",
   "execution_count": null,
   "id": "d2a99361-afc1-4f1f-bb51-2278ca0030b3",
   "metadata": {},
   "outputs": [],
   "source": []
  },
  {
   "cell_type": "markdown",
   "id": "5baa9e67-4ae9-4ad1-83ab-0cb49d7bd3f6",
   "metadata": {
    "jp-MarkdownHeadingCollapsed": true
   },
   "source": [
    "# 2 Data Types"
   ]
  },
  {
   "cell_type": "code",
   "execution_count": 6,
   "id": "7740793f-8f3a-495b-a8fb-c7386a5bad03",
   "metadata": {},
   "outputs": [
    {
     "data": {
      "text/plain": [
       "str"
      ]
     },
     "execution_count": 6,
     "metadata": {},
     "output_type": "execute_result"
    }
   ],
   "source": [
    "type(\"Hello World\")"
   ]
  },
  {
   "cell_type": "code",
   "execution_count": 7,
   "id": "591d6563-f41e-41ec-a0a4-d8f65cbfa6ff",
   "metadata": {},
   "outputs": [
    {
     "data": {
      "text/plain": [
       "bool"
      ]
     },
     "execution_count": 7,
     "metadata": {},
     "output_type": "execute_result"
    }
   ],
   "source": [
    "type(False)"
   ]
  },
  {
   "cell_type": "code",
   "execution_count": 10,
   "id": "bdcfdc22-7b8e-4e02-8d81-411d430255f5",
   "metadata": {},
   "outputs": [
    {
     "name": "stdout",
     "output_type": "stream",
     "text": [
      "HELLO WORLD\n",
      "hello world\n",
      "Hello World\n"
     ]
    }
   ],
   "source": [
    "print (\"Hello World\".upper())\n",
    "print(\"Hello World\".lower())\n",
    "print (\"Hello World\".title())"
   ]
  },
  {
   "cell_type": "code",
   "execution_count": 11,
   "id": "9a6b123d-713b-4281-8f38-7f7cca66d839",
   "metadata": {},
   "outputs": [
    {
     "name": "stdout",
     "output_type": "stream",
     "text": [
      "3\n"
     ]
    }
   ],
   "source": [
    "print (\"Hello World\".count('l'))"
   ]
  },
  {
   "cell_type": "code",
   "execution_count": 12,
   "id": "56e5b061-6bcb-4c08-8cdb-9202dc70076b",
   "metadata": {},
   "outputs": [
    {
     "name": "stdout",
     "output_type": "stream",
     "text": [
      "Dello World\n"
     ]
    }
   ],
   "source": [
    "print (\"Hello World\".replace(\"H\",\"D\"))"
   ]
  },
  {
   "cell_type": "markdown",
   "id": "98e79e7f-ba7c-4a32-af04-ab0c35e0a6a5",
   "metadata": {
    "jp-MarkdownHeadingCollapsed": true
   },
   "source": [
    "# 3 Variables"
   ]
  },
  {
   "cell_type": "code",
   "execution_count": 13,
   "id": "22ddbc72-f3e3-4b4c-942e-5f17d664fa2e",
   "metadata": {},
   "outputs": [],
   "source": [
    "message_1 = \"I'm learning python\""
   ]
  },
  {
   "cell_type": "code",
   "execution_count": 14,
   "id": "19603ded-059b-4e4b-b0e6-be4db5747f60",
   "metadata": {},
   "outputs": [
    {
     "name": "stdout",
     "output_type": "stream",
     "text": [
      "I'm learning python\n"
     ]
    }
   ],
   "source": [
    "print(message_1)"
   ]
  },
  {
   "cell_type": "code",
   "execution_count": 22,
   "id": "be3b7466-e8f0-4883-888b-3bf27017ef76",
   "metadata": {},
   "outputs": [],
   "source": [
    "message_2 = \"and it's fun\""
   ]
  },
  {
   "cell_type": "code",
   "execution_count": 16,
   "id": "59a62398-296d-423b-8960-d7a84176a19d",
   "metadata": {},
   "outputs": [
    {
     "name": "stdout",
     "output_type": "stream",
     "text": [
      "And it's fun\n"
     ]
    }
   ],
   "source": [
    "print(message_2)"
   ]
  },
  {
   "cell_type": "code",
   "execution_count": 17,
   "id": "cbc5fc96-9641-4725-99f7-cf18e8c2793d",
   "metadata": {},
   "outputs": [
    {
     "name": "stdout",
     "output_type": "stream",
     "text": [
      "I'm learning pythonAnd it's fun\n"
     ]
    }
   ],
   "source": [
    "print(message_1 + message_2)"
   ]
  },
  {
   "cell_type": "code",
   "execution_count": 18,
   "id": "33e2e214-d241-439c-88ae-94b06adce208",
   "metadata": {},
   "outputs": [
    {
     "name": "stdout",
     "output_type": "stream",
     "text": [
      "I'm learning python And it's fun\n"
     ]
    }
   ],
   "source": [
    "print(message_1 +\" \"+ message_2)"
   ]
  },
  {
   "cell_type": "code",
   "execution_count": 19,
   "id": "0d59abcf-3276-45be-aa0f-e0ed23c287af",
   "metadata": {},
   "outputs": [
    {
     "data": {
      "text/plain": [
       "'Hello World'"
      ]
     },
     "execution_count": 19,
     "metadata": {},
     "output_type": "execute_result"
    }
   ],
   "source": [
    "f\"Hello World\""
   ]
  },
  {
   "cell_type": "code",
   "execution_count": 20,
   "id": "c7407c80-c6c3-4ed9-a647-87ef25e38e9e",
   "metadata": {},
   "outputs": [
    {
     "data": {
      "text/plain": [
       "\"I'm learning python\""
      ]
     },
     "execution_count": 20,
     "metadata": {},
     "output_type": "execute_result"
    }
   ],
   "source": [
    "f\"{message_1}\""
   ]
  },
  {
   "cell_type": "code",
   "execution_count": 23,
   "id": "f467bf35-b323-42b8-be5d-35741b65bf20",
   "metadata": {},
   "outputs": [
    {
     "data": {
      "text/plain": [
       "\"I'm learning python and it's fun\""
      ]
     },
     "execution_count": 23,
     "metadata": {},
     "output_type": "execute_result"
    }
   ],
   "source": [
    "f\"{message_1} {message_2}\""
   ]
  },
  {
   "cell_type": "markdown",
   "id": "3e4a70b4-840c-4793-aed1-1c6f04c941aa",
   "metadata": {
    "jp-MarkdownHeadingCollapsed": true
   },
   "source": [
    "# 4 List"
   ]
  },
  {
   "cell_type": "code",
   "execution_count": 15,
   "id": "50d7a2df-29f0-41bc-a023-d80daaf617a0",
   "metadata": {},
   "outputs": [],
   "source": [
    "countries = [\"Kenya\", \"US\", \"India\",\"China\", \"Japan\"]"
   ]
  },
  {
   "cell_type": "code",
   "execution_count": 16,
   "id": "a27997f1-328a-4d85-85a4-1e8d7fee1345",
   "metadata": {},
   "outputs": [
    {
     "data": {
      "text/plain": [
       "['Kenya', 'US', 'India', 'China', 'Japan']"
      ]
     },
     "execution_count": 16,
     "metadata": {},
     "output_type": "execute_result"
    }
   ],
   "source": [
    "countries"
   ]
  },
  {
   "cell_type": "code",
   "execution_count": 18,
   "id": "a5d08573-b53d-42c6-b471-c73403634066",
   "metadata": {},
   "outputs": [
    {
     "data": {
      "text/plain": [
       "'Kenya'"
      ]
     },
     "execution_count": 18,
     "metadata": {},
     "output_type": "execute_result"
    }
   ],
   "source": [
    "countries[0]"
   ]
  },
  {
   "cell_type": "code",
   "execution_count": 17,
   "id": "a816879e-f662-4548-ad30-4e95bc934067",
   "metadata": {},
   "outputs": [
    {
     "data": {
      "text/plain": [
       "'Japan'"
      ]
     },
     "execution_count": 17,
     "metadata": {},
     "output_type": "execute_result"
    }
   ],
   "source": [
    "countries[-1]"
   ]
  },
  {
   "cell_type": "code",
   "execution_count": 31,
   "id": "691e1ba1-4f4d-4850-802c-612ce3f5bae6",
   "metadata": {},
   "outputs": [],
   "source": [
    "# Slicing\n",
    "# list_name[start:stop] Does not include the last index"
   ]
  },
  {
   "cell_type": "code",
   "execution_count": 19,
   "id": "51913047-1c4c-4629-9ba9-e54426213630",
   "metadata": {},
   "outputs": [
    {
     "data": {
      "text/plain": [
       "['US', 'India']"
      ]
     },
     "execution_count": 19,
     "metadata": {},
     "output_type": "execute_result"
    }
   ],
   "source": [
    "countries[1:3]"
   ]
  },
  {
   "cell_type": "code",
   "execution_count": 20,
   "id": "0f4433f7-dd64-4716-a4a8-9ab00a981413",
   "metadata": {},
   "outputs": [
    {
     "data": {
      "text/plain": [
       "['US', 'India', 'China', 'Japan']"
      ]
     },
     "execution_count": 20,
     "metadata": {},
     "output_type": "execute_result"
    }
   ],
   "source": [
    "# Starts from index 1 and provides the rest\n",
    "countries[1:]"
   ]
  },
  {
   "cell_type": "markdown",
   "id": "0284e871-0fad-40e6-9bf9-894ec2361da8",
   "metadata": {
    "jp-MarkdownHeadingCollapsed": true
   },
   "source": [
    "## 4.0.1 Adding elements to a list"
   ]
  },
  {
   "cell_type": "code",
   "execution_count": 41,
   "id": "d4455c75-831f-4986-b5a8-1e02a8f04362",
   "metadata": {},
   "outputs": [
    {
     "data": {
      "text/plain": [
       "['Kenya', 'US', 'India', 'China', 'Japan']"
      ]
     },
     "execution_count": 41,
     "metadata": {},
     "output_type": "execute_result"
    }
   ],
   "source": [
    "countries"
   ]
  },
  {
   "cell_type": "code",
   "execution_count": 42,
   "id": "9623d86a-0fdd-4252-9c0a-5ebc8670e3e6",
   "metadata": {},
   "outputs": [],
   "source": [
    "# Add to the end\n",
    "countries.append(\"Botswana\")"
   ]
  },
  {
   "cell_type": "code",
   "execution_count": 43,
   "id": "33ec718c-329e-47c1-87b3-8fa5c3091475",
   "metadata": {},
   "outputs": [
    {
     "data": {
      "text/plain": [
       "['Kenya', 'US', 'India', 'China', 'Japan', 'Botswana']"
      ]
     },
     "execution_count": 43,
     "metadata": {},
     "output_type": "execute_result"
    }
   ],
   "source": [
    "countries"
   ]
  },
  {
   "cell_type": "code",
   "execution_count": 44,
   "id": "5f8802ce-11dc-42d1-a003-1f897b285ea6",
   "metadata": {},
   "outputs": [],
   "source": [
    "# Takes in 2 args and can insert where element gets specified place\n",
    "countries.insert(0,\"Tanzania\")"
   ]
  },
  {
   "cell_type": "code",
   "execution_count": 45,
   "id": "77d78b22-2e2f-4b31-8d53-08fa2ff57043",
   "metadata": {},
   "outputs": [
    {
     "data": {
      "text/plain": [
       "['Tanzania', 'Kenya', 'US', 'India', 'China', 'Japan', 'Botswana']"
      ]
     },
     "execution_count": 45,
     "metadata": {},
     "output_type": "execute_result"
    }
   ],
   "source": [
    "countries"
   ]
  },
  {
   "cell_type": "code",
   "execution_count": 46,
   "id": "fcd53fe9-5d4b-4bcd-be16-fe6fb3ba03f4",
   "metadata": {},
   "outputs": [],
   "source": [
    "countries_2 = [\"UK\", \"Germany\", \"Austria\"]"
   ]
  },
  {
   "cell_type": "code",
   "execution_count": 47,
   "id": "ddcb7223-cfd4-4a41-9011-3eb3ee5f6d68",
   "metadata": {},
   "outputs": [
    {
     "data": {
      "text/plain": [
       "['Tanzania',\n",
       " 'Kenya',\n",
       " 'US',\n",
       " 'India',\n",
       " 'China',\n",
       " 'Japan',\n",
       " 'Botswana',\n",
       " 'UK',\n",
       " 'Germany',\n",
       " 'Austria']"
      ]
     },
     "execution_count": 47,
     "metadata": {},
     "output_type": "execute_result"
    }
   ],
   "source": [
    "countries + countries_2"
   ]
  },
  {
   "cell_type": "code",
   "execution_count": 48,
   "id": "ba064eac-79ac-4142-805e-67840d5be18d",
   "metadata": {},
   "outputs": [],
   "source": [
    "nested_list = [countries, countries_2]"
   ]
  },
  {
   "cell_type": "code",
   "execution_count": 49,
   "id": "b3b59b34-c05b-4823-8f88-5f88d20547fa",
   "metadata": {},
   "outputs": [
    {
     "data": {
      "text/plain": [
       "[['Tanzania', 'Kenya', 'US', 'India', 'China', 'Japan', 'Botswana'],\n",
       " ['UK', 'Germany', 'Austria']]"
      ]
     },
     "execution_count": 49,
     "metadata": {},
     "output_type": "execute_result"
    }
   ],
   "source": [
    "nested_list"
   ]
  },
  {
   "cell_type": "markdown",
   "id": "b872a7b0-adf2-402d-837f-6e0a2cd31b99",
   "metadata": {
    "jp-MarkdownHeadingCollapsed": true
   },
   "source": [
    "## 4.0.2 Removingelements to a list"
   ]
  },
  {
   "cell_type": "code",
   "execution_count": 50,
   "id": "5d734fe1-a4cf-47c4-a5bd-9c2dd5e4eb46",
   "metadata": {},
   "outputs": [],
   "source": [
    "countries = [\"Kenya\", \"US\", \"India\",\"China\", \"Japan\"]"
   ]
  },
  {
   "cell_type": "code",
   "execution_count": 51,
   "id": "9fc05c30-28be-494f-89b4-42fe5792d24a",
   "metadata": {},
   "outputs": [],
   "source": [
    "countries.remove(\"US\")"
   ]
  },
  {
   "cell_type": "code",
   "execution_count": 52,
   "id": "831a2351-337a-4624-b27c-79ba1aada6d7",
   "metadata": {},
   "outputs": [
    {
     "data": {
      "text/plain": [
       "['Kenya', 'India', 'China', 'Japan']"
      ]
     },
     "execution_count": 52,
     "metadata": {},
     "output_type": "execute_result"
    }
   ],
   "source": [
    "countries"
   ]
  },
  {
   "cell_type": "code",
   "execution_count": 54,
   "id": "18f7eb69-ba58-49b2-bdf2-db2cd311dcac",
   "metadata": {},
   "outputs": [
    {
     "data": {
      "text/plain": [
       "'Japan'"
      ]
     },
     "execution_count": 54,
     "metadata": {},
     "output_type": "execute_result"
    }
   ],
   "source": [
    "# Remove by index\n",
    "countries.pop(-1)"
   ]
  },
  {
   "cell_type": "code",
   "execution_count": 55,
   "id": "c0bc213f-86ee-47b2-9174-60d504ed93a2",
   "metadata": {},
   "outputs": [
    {
     "data": {
      "text/plain": [
       "['Kenya', 'India', 'China']"
      ]
     },
     "execution_count": 55,
     "metadata": {},
     "output_type": "execute_result"
    }
   ],
   "source": [
    "countries"
   ]
  },
  {
   "cell_type": "code",
   "execution_count": 56,
   "id": "776934fe-585a-4433-bf87-2b3776bd370d",
   "metadata": {},
   "outputs": [],
   "source": [
    "del countries[1]"
   ]
  },
  {
   "cell_type": "code",
   "execution_count": 57,
   "id": "50caa0f9-eb21-44c9-b51d-878c54378f01",
   "metadata": {},
   "outputs": [
    {
     "data": {
      "text/plain": [
       "['Kenya', 'China']"
      ]
     },
     "execution_count": 57,
     "metadata": {},
     "output_type": "execute_result"
    }
   ],
   "source": [
    "countries"
   ]
  },
  {
   "cell_type": "markdown",
   "id": "b6af778f-3a69-4851-9df0-274a80eb35d7",
   "metadata": {
    "jp-MarkdownHeadingCollapsed": true
   },
   "source": [
    "## 4.0.3  Sorting a list"
   ]
  },
  {
   "cell_type": "code",
   "execution_count": 1,
   "id": "7cfcbbd1-4f9f-46af-8a3e-3e09d81a9d0d",
   "metadata": {},
   "outputs": [],
   "source": [
    "numbers = [5,6,8,9,10,1,4]"
   ]
  },
  {
   "cell_type": "code",
   "execution_count": 2,
   "id": "e1806c03-d81f-47af-ac3d-102d7e39b256",
   "metadata": {},
   "outputs": [],
   "source": [
    "numbers.sort()"
   ]
  },
  {
   "cell_type": "code",
   "execution_count": 3,
   "id": "9e84e5ba-c2d3-4fb1-a922-84a0389c5bbc",
   "metadata": {},
   "outputs": [
    {
     "data": {
      "text/plain": [
       "[1, 4, 5, 6, 8, 9, 10]"
      ]
     },
     "execution_count": 3,
     "metadata": {},
     "output_type": "execute_result"
    }
   ],
   "source": [
    "numbers"
   ]
  },
  {
   "cell_type": "markdown",
   "id": "4a28b803-a2c4-4ecc-a430-b635cd2df1c8",
   "metadata": {},
   "source": [
    "### Reversed Sorting"
   ]
  },
  {
   "cell_type": "code",
   "execution_count": 4,
   "id": "4c980e5b-c503-434d-b779-f781a995661a",
   "metadata": {},
   "outputs": [],
   "source": [
    "numbers = [5,6,8,9,10,1,4]\n"
   ]
  },
  {
   "cell_type": "code",
   "execution_count": 6,
   "id": "23e526b0-5e7f-4213-bd8f-242801e5fa74",
   "metadata": {},
   "outputs": [],
   "source": [
    "numbers.sort(reverse=True)"
   ]
  },
  {
   "cell_type": "code",
   "execution_count": 7,
   "id": "70536efb-c53c-4d40-81f2-8f09366836ee",
   "metadata": {},
   "outputs": [
    {
     "data": {
      "text/plain": [
       "[10, 9, 8, 6, 5, 4, 1]"
      ]
     },
     "execution_count": 7,
     "metadata": {},
     "output_type": "execute_result"
    }
   ],
   "source": [
    "numbers"
   ]
  },
  {
   "cell_type": "markdown",
   "id": "c88f3f61-5a99-438a-99a8-5df29265340d",
   "metadata": {
    "jp-MarkdownHeadingCollapsed": true
   },
   "source": [
    "## 4.0.4 Update an element"
   ]
  },
  {
   "cell_type": "code",
   "execution_count": 8,
   "id": "c3e5447a-972d-4556-ac09-aeec2e89c3e3",
   "metadata": {},
   "outputs": [],
   "source": [
    "numbers[0] = 1000"
   ]
  },
  {
   "cell_type": "code",
   "execution_count": 9,
   "id": "2604b1f4-95fd-4ae2-a2ad-eb9dd6a719f8",
   "metadata": {},
   "outputs": [
    {
     "data": {
      "text/plain": [
       "[1000, 9, 8, 6, 5, 4, 1]"
      ]
     },
     "execution_count": 9,
     "metadata": {},
     "output_type": "execute_result"
    }
   ],
   "source": [
    "numbers"
   ]
  },
  {
   "cell_type": "markdown",
   "id": "d6d638d0-0e56-4ca8-bb41-940157ee5691",
   "metadata": {
    "jp-MarkdownHeadingCollapsed": true
   },
   "source": [
    "## 4.0.5 Copying a list"
   ]
  },
  {
   "cell_type": "code",
   "execution_count": 22,
   "id": "0022186e-5381-47f1-bb13-9e9e9fc4a05a",
   "metadata": {},
   "outputs": [],
   "source": [
    "countries=['Kenya', 'US', 'India', 'China', 'Japan']"
   ]
  },
  {
   "cell_type": "code",
   "execution_count": 24,
   "id": "5761d5dc-968e-41bd-af36-1fd785abf218",
   "metadata": {},
   "outputs": [],
   "source": [
    "new_list = countries[:]"
   ]
  },
  {
   "cell_type": "code",
   "execution_count": 25,
   "id": "821af581-263c-4d97-ac3a-63640636c5b5",
   "metadata": {},
   "outputs": [
    {
     "data": {
      "text/plain": [
       "['Kenya', 'US', 'India', 'China', 'Japan']"
      ]
     },
     "execution_count": 25,
     "metadata": {},
     "output_type": "execute_result"
    }
   ],
   "source": [
    "new_list"
   ]
  },
  {
   "cell_type": "code",
   "execution_count": 27,
   "id": "aafe9a49-fa26-47e3-b5e3-196a2c069b45",
   "metadata": {},
   "outputs": [],
   "source": [
    "new_list_2 =countries.copy()"
   ]
  },
  {
   "cell_type": "code",
   "execution_count": 28,
   "id": "8fdbe79d-92de-4319-b9a4-8441a978acc8",
   "metadata": {},
   "outputs": [
    {
     "data": {
      "text/plain": [
       "['Kenya', 'US', 'India', 'China', 'Japan']"
      ]
     },
     "execution_count": 28,
     "metadata": {},
     "output_type": "execute_result"
    }
   ],
   "source": [
    "new_list_2"
   ]
  },
  {
   "cell_type": "markdown",
   "id": "68493610-b86b-4bb8-bb89-2038d8484e95",
   "metadata": {
    "jp-MarkdownHeadingCollapsed": true
   },
   "source": [
    "# 5. Dictionary"
   ]
  },
  {
   "cell_type": "code",
   "execution_count": 33,
   "id": "4411b97e-43c3-499b-aaa2-160b26e5d703",
   "metadata": {},
   "outputs": [],
   "source": [
    "my_dict = {\n",
    "    \"key1\":\"value1\",\n",
    "    \"key2\":\"value2\",\n",
    "}"
   ]
  },
  {
   "cell_type": "code",
   "execution_count": 31,
   "id": "4d9e5ed3-5070-443e-b573-46fc350bc2d5",
   "metadata": {},
   "outputs": [
    {
     "data": {
      "text/plain": [
       "{'key1': 'value1', 'key2': 'value2'}"
      ]
     },
     "execution_count": 31,
     "metadata": {},
     "output_type": "execute_result"
    }
   ],
   "source": [
    "my_dict"
   ]
  },
  {
   "cell_type": "code",
   "execution_count": 39,
   "id": "af33ce03-299e-4bc4-892c-2ecaa4d82e74",
   "metadata": {},
   "outputs": [],
   "source": [
    "my_data = {\n",
    "    \"name\": \"Nathan\",\n",
    "    \"age\": 29,\n",
    "}"
   ]
  },
  {
   "cell_type": "code",
   "execution_count": 40,
   "id": "10f650a8-075e-4ef7-bf5d-c96590678a86",
   "metadata": {},
   "outputs": [
    {
     "data": {
      "text/plain": [
       "{'name': 'Nathan', 'age': 29}"
      ]
     },
     "execution_count": 40,
     "metadata": {},
     "output_type": "execute_result"
    }
   ],
   "source": [
    "my_data"
   ]
  },
  {
   "cell_type": "code",
   "execution_count": 41,
   "id": "073edc34-c609-425a-9ca0-d083a3183c14",
   "metadata": {},
   "outputs": [
    {
     "data": {
      "text/plain": [
       "dict_keys(['name', 'age'])"
      ]
     },
     "execution_count": 41,
     "metadata": {},
     "output_type": "execute_result"
    }
   ],
   "source": [
    "my_data.keys()"
   ]
  },
  {
   "cell_type": "code",
   "execution_count": 42,
   "id": "790640cb-009b-48fb-9f2e-5f095a67b349",
   "metadata": {},
   "outputs": [
    {
     "data": {
      "text/plain": [
       "dict_values(['Nathan', 29])"
      ]
     },
     "execution_count": 42,
     "metadata": {},
     "output_type": "execute_result"
    }
   ],
   "source": [
    "my_data.values()"
   ]
  },
  {
   "cell_type": "code",
   "execution_count": 43,
   "id": "e0b2edf7-a80a-449d-ab8d-5768cefa0069",
   "metadata": {},
   "outputs": [
    {
     "data": {
      "text/plain": [
       "dict_items([('name', 'Nathan'), ('age', 29)])"
      ]
     },
     "execution_count": 43,
     "metadata": {},
     "output_type": "execute_result"
    }
   ],
   "source": [
    "my_data.items()"
   ]
  },
  {
   "cell_type": "code",
   "execution_count": 44,
   "id": "c1f0075f-5115-48eb-9b44-8204c4177568",
   "metadata": {},
   "outputs": [],
   "source": [
    "my_data['height'] = 1.97"
   ]
  },
  {
   "cell_type": "code",
   "execution_count": 45,
   "id": "6019b1fe-ad30-403d-8b2e-3788e8048d1d",
   "metadata": {},
   "outputs": [
    {
     "data": {
      "text/plain": [
       "{'name': 'Nathan', 'age': 29, 'height': 1.97}"
      ]
     },
     "execution_count": 45,
     "metadata": {},
     "output_type": "execute_result"
    }
   ],
   "source": [
    "my_data"
   ]
  },
  {
   "cell_type": "code",
   "execution_count": 54,
   "id": "c9618265-05aa-498f-9db7-c24bbff49cd3",
   "metadata": {},
   "outputs": [],
   "source": [
    "my_data.update({'height':2.5})"
   ]
  },
  {
   "cell_type": "code",
   "execution_count": 47,
   "id": "9835b647-c2b0-47c9-91dc-bda001c449d4",
   "metadata": {},
   "outputs": [
    {
     "data": {
      "text/plain": [
       "{'name': 'Nathan', 'age': 29, 'height': 2.0}"
      ]
     },
     "execution_count": 47,
     "metadata": {},
     "output_type": "execute_result"
    }
   ],
   "source": [
    "my_data"
   ]
  },
  {
   "cell_type": "markdown",
   "id": "3dc515aa-07a9-4a8d-a56d-a6c77c00999b",
   "metadata": {
    "jp-MarkdownHeadingCollapsed": true
   },
   "source": [
    "## 5.0.1 Copy a dictionary"
   ]
  },
  {
   "cell_type": "code",
   "execution_count": 52,
   "id": "bde28963-f4b1-40d1-81b6-a52fb0e1f33e",
   "metadata": {},
   "outputs": [],
   "source": [
    "new_dict = my_data.copy()"
   ]
  },
  {
   "cell_type": "code",
   "execution_count": 55,
   "id": "8b91c98b-4c22-4e9c-b57d-8ccb4cd811f9",
   "metadata": {},
   "outputs": [
    {
     "data": {
      "text/plain": [
       "{'name': 'Nathan', 'age': 29, 'height': 2.0}"
      ]
     },
     "execution_count": 55,
     "metadata": {},
     "output_type": "execute_result"
    }
   ],
   "source": [
    "new_dict"
   ]
  },
  {
   "cell_type": "code",
   "execution_count": 58,
   "id": "f689e663-7197-451e-8748-0acb2c48ec3f",
   "metadata": {},
   "outputs": [],
   "source": [
    "new_dict_2 = my_data"
   ]
  },
  {
   "cell_type": "code",
   "execution_count": 59,
   "id": "08ed2e34-b046-4301-b0a3-b5a6800b9e9d",
   "metadata": {},
   "outputs": [
    {
     "data": {
      "text/plain": [
       "{'name': 'Nathan', 'age': 29, 'height': 2.5}"
      ]
     },
     "execution_count": 59,
     "metadata": {},
     "output_type": "execute_result"
    }
   ],
   "source": [
    "new_dict_2"
   ]
  },
  {
   "cell_type": "markdown",
   "id": "1ab868f5-e55f-4254-a07a-c21b1435938a",
   "metadata": {
    "jp-MarkdownHeadingCollapsed": true
   },
   "source": [
    "## 5.0.2 Remove an element"
   ]
  },
  {
   "cell_type": "code",
   "execution_count": 60,
   "id": "0d881e84-cfdb-4e64-acf5-8a871cd786e1",
   "metadata": {},
   "outputs": [
    {
     "data": {
      "text/plain": [
       "'Nathan'"
      ]
     },
     "execution_count": 60,
     "metadata": {},
     "output_type": "execute_result"
    }
   ],
   "source": [
    "my_data.pop('name')"
   ]
  },
  {
   "cell_type": "code",
   "execution_count": 63,
   "id": "75b8b14b-9578-4515-b521-ae02216c7d90",
   "metadata": {},
   "outputs": [
    {
     "data": {
      "text/plain": [
       "{'age': 29}"
      ]
     },
     "execution_count": 63,
     "metadata": {},
     "output_type": "execute_result"
    }
   ],
   "source": [
    "my_data"
   ]
  },
  {
   "cell_type": "code",
   "execution_count": 62,
   "id": "69fd80ba-5852-49a3-bdde-312f3971d1cb",
   "metadata": {},
   "outputs": [],
   "source": [
    "del my_data['height']"
   ]
  },
  {
   "cell_type": "code",
   "execution_count": 64,
   "id": "9f01b73a-9eb3-4da2-b295-9b2d7d28b82d",
   "metadata": {},
   "outputs": [
    {
     "data": {
      "text/plain": [
       "{'age': 29}"
      ]
     },
     "execution_count": 64,
     "metadata": {},
     "output_type": "execute_result"
    }
   ],
   "source": [
    "my_data"
   ]
  },
  {
   "cell_type": "code",
   "execution_count": 65,
   "id": "79d128d7-ece4-4f70-8dda-87c9b5e02337",
   "metadata": {},
   "outputs": [],
   "source": [
    "my_data.clear()"
   ]
  },
  {
   "cell_type": "code",
   "execution_count": 66,
   "id": "79d0df93-dd55-4a43-bb77-1702b1a9f078",
   "metadata": {},
   "outputs": [
    {
     "data": {
      "text/plain": [
       "{}"
      ]
     },
     "execution_count": 66,
     "metadata": {},
     "output_type": "execute_result"
    }
   ],
   "source": [
    "my_data"
   ]
  },
  {
   "cell_type": "markdown",
   "id": "2f608467-0db7-4f90-ad0d-90979c51731a",
   "metadata": {
    "jp-MarkdownHeadingCollapsed": true
   },
   "source": [
    "# 6. If statement"
   ]
  },
  {
   "cell_type": "code",
   "execution_count": 68,
   "id": "44f6ea37-2fcf-4fa2-8558-b599c6e664d1",
   "metadata": {},
   "outputs": [],
   "source": [
    "# if <condition>:\n",
    "#     <code>\n",
    "# elif <condition>:\n",
    "#     <code>\n",
    "# else:\n",
    "#     <code>"
   ]
  },
  {
   "cell_type": "code",
   "execution_count": 85,
   "id": "e9b5acd4-0266-462d-8d5e-20d2d2616a67",
   "metadata": {},
   "outputs": [],
   "source": [
    "age = 12.9"
   ]
  },
  {
   "cell_type": "code",
   "execution_count": 86,
   "id": "531cefc7-81b2-44b0-b37d-872fef1b9548",
   "metadata": {},
   "outputs": [
    {
     "name": "stdout",
     "output_type": "stream",
     "text": [
      "Why are you even using this page knowing you cannot afford it?\n"
     ]
    }
   ],
   "source": [
    "if age>=18:\n",
    "    print(f\"Your {age} and this allows you to activate an account\")\n",
    "elif age>=13:\n",
    "    print(\"You are a teenager😖\")\n",
    "else:\n",
    "    print(\"Why are you even using this page knowing you cannot afford it?\")"
   ]
  },
  {
   "cell_type": "markdown",
   "id": "b3b6933a-44dd-42e7-8c6b-e56b14f62282",
   "metadata": {
    "jp-MarkdownHeadingCollapsed": true
   },
   "source": [
    "# 7. For Loop"
   ]
  },
  {
   "cell_type": "code",
   "execution_count": 89,
   "id": "6b13426f-a73b-421c-8edd-0d87ccda7944",
   "metadata": {},
   "outputs": [],
   "source": [
    "# for <variable> in <iterable>:\n",
    "#     <code>"
   ]
  },
  {
   "cell_type": "code",
   "execution_count": 90,
   "id": "631ed870-653d-43e5-a06d-e277cd9a830d",
   "metadata": {},
   "outputs": [
    {
     "data": {
      "text/plain": [
       "['Kenya', 'US', 'India', 'China', 'Japan']"
      ]
     },
     "execution_count": 90,
     "metadata": {},
     "output_type": "execute_result"
    }
   ],
   "source": [
    "countries"
   ]
  },
  {
   "cell_type": "code",
   "execution_count": 91,
   "id": "b01159b1-c7d5-433b-8541-73d36f143d1e",
   "metadata": {},
   "outputs": [
    {
     "name": "stdout",
     "output_type": "stream",
     "text": [
      "Kenya\n",
      "US\n",
      "India\n",
      "China\n",
      "Japan\n"
     ]
    }
   ],
   "source": [
    "for country in countries:\n",
    "    print(country)"
   ]
  },
  {
   "cell_type": "markdown",
   "id": "a536af59-2d7d-4fce-a967-22431d916b77",
   "metadata": {
    "jp-MarkdownHeadingCollapsed": true
   },
   "source": [
    "## 7.0.1 Enumerate"
   ]
  },
  {
   "cell_type": "code",
   "execution_count": 95,
   "id": "23648464-59b4-4d17-a1ea-5abe39cf1136",
   "metadata": {},
   "outputs": [
    {
     "name": "stdout",
     "output_type": "stream",
     "text": [
      "0:Kenya\n",
      "1:US\n",
      "2:India\n",
      "3:China\n",
      "4:Japan\n"
     ]
    }
   ],
   "source": [
    "for i,country in enumerate(countries):\n",
    "    print(f\"{i}:{country}\")"
   ]
  },
  {
   "cell_type": "markdown",
   "id": "72385d90-265e-4f91-addd-a069c8b10c5b",
   "metadata": {},
   "source": [
    "## 7.0.2 looping through the dictionary"
   ]
  },
  {
   "cell_type": "code",
   "execution_count": 97,
   "id": "96fe9c46-74e2-4e7a-96f6-09aa2d14ec2b",
   "metadata": {},
   "outputs": [],
   "source": [
    "my_data = {\n",
    "    \"name\": \"Nathan\",\n",
    "    \"age\": 29,\n",
    "}"
   ]
  },
  {
   "cell_type": "code",
   "execution_count": 98,
   "id": "475166ee-e8a8-4ba7-bbd5-891ef5bb8b72",
   "metadata": {},
   "outputs": [
    {
     "data": {
      "text/plain": [
       "{'name': 'Nathan', 'age': 29}"
      ]
     },
     "execution_count": 98,
     "metadata": {},
     "output_type": "execute_result"
    }
   ],
   "source": [
    "my_data"
   ]
  },
  {
   "cell_type": "code",
   "execution_count": 100,
   "id": "97682a33-2f13-4821-bb41-3ffb99fa07a7",
   "metadata": {},
   "outputs": [
    {
     "name": "stdout",
     "output_type": "stream",
     "text": [
      "name -> Nathan\n",
      "age -> 29\n"
     ]
    }
   ],
   "source": [
    "for key,value in my_data.items():\n",
    "    print(f\"{key} -> {value}\")"
   ]
  },
  {
   "cell_type": "markdown",
   "id": "42c9295d-08b2-45cb-8561-08a223e1b73c",
   "metadata": {
    "jp-MarkdownHeadingCollapsed": true
   },
   "source": [
    "# 8. Functions"
   ]
  },
  {
   "cell_type": "code",
   "execution_count": 102,
   "id": "a3721d99-b877-464d-ac50-471ed2cfa5f6",
   "metadata": {},
   "outputs": [],
   "source": [
    "# def function (<params>):\n",
    "#     <code>\n",
    "#     return <data>"
   ]
  },
  {
   "cell_type": "code",
   "execution_count": 103,
   "id": "5ba23edd-a2f7-4bf8-a66f-ab8f1b4c7982",
   "metadata": {},
   "outputs": [],
   "source": [
    "def sum_values(a, b):\n",
    "    x = a + b\n",
    "    return x"
   ]
  },
  {
   "cell_type": "code",
   "execution_count": 104,
   "id": "a9a63a86-6c4c-4acf-aeaf-20b3f69b583e",
   "metadata": {},
   "outputs": [
    {
     "data": {
      "text/plain": [
       "21"
      ]
     },
     "execution_count": 104,
     "metadata": {},
     "output_type": "execute_result"
    }
   ],
   "source": [
    "sum_values(9, 12)"
   ]
  },
  {
   "cell_type": "markdown",
   "id": "36deb204-504d-4e62-b9e8-5314ab001237",
   "metadata": {
    "jp-MarkdownHeadingCollapsed": true
   },
   "source": [
    "## 8.1 Built-in Functions"
   ]
  },
  {
   "cell_type": "code",
   "execution_count": 105,
   "id": "5deeddca-7a65-4b11-a233-f773e64a8a04",
   "metadata": {},
   "outputs": [
    {
     "data": {
      "text/plain": [
       "['Kenya', 'US', 'India', 'China', 'Japan']"
      ]
     },
     "execution_count": 105,
     "metadata": {},
     "output_type": "execute_result"
    }
   ],
   "source": [
    "countries"
   ]
  },
  {
   "cell_type": "code",
   "execution_count": 107,
   "id": "2f562d74-b3c5-4480-a12c-15588509b7ae",
   "metadata": {},
   "outputs": [
    {
     "data": {
      "text/plain": [
       "5"
      ]
     },
     "execution_count": 107,
     "metadata": {},
     "output_type": "execute_result"
    }
   ],
   "source": [
    "len(countries)"
   ]
  },
  {
   "cell_type": "code",
   "execution_count": 109,
   "id": "ac82e305-27bb-4da4-9afa-18793124099b",
   "metadata": {},
   "outputs": [
    {
     "data": {
      "text/plain": [
       "78"
      ]
     },
     "execution_count": 109,
     "metadata": {},
     "output_type": "execute_result"
    }
   ],
   "source": [
    "max([23,56,78,1,4,2,44])"
   ]
  },
  {
   "cell_type": "code",
   "execution_count": 110,
   "id": "82b1745a-2995-4d04-a366-05fbd2b4e613",
   "metadata": {},
   "outputs": [
    {
     "data": {
      "text/plain": [
       "1"
      ]
     },
     "execution_count": 110,
     "metadata": {},
     "output_type": "execute_result"
    }
   ],
   "source": [
    "min([23,56,78,1,4,2,44])"
   ]
  },
  {
   "cell_type": "code",
   "execution_count": 111,
   "id": "b34a286c-ce27-4cb4-9a9c-1bf08966a5da",
   "metadata": {},
   "outputs": [
    {
     "data": {
      "text/plain": [
       "list"
      ]
     },
     "execution_count": 111,
     "metadata": {},
     "output_type": "execute_result"
    }
   ],
   "source": [
    "type(countries)"
   ]
  },
  {
   "cell_type": "code",
   "execution_count": 118,
   "id": "45fe5cbe-3c21-4753-8b2b-2eb3fe836ecb",
   "metadata": {},
   "outputs": [
    {
     "name": "stdout",
     "output_type": "stream",
     "text": [
      "1\n",
      "3\n",
      "5\n",
      "7\n",
      "9\n"
     ]
    }
   ],
   "source": [
    " for i in range(1,10, 2):\n",
    "     print(i)"
   ]
  },
  {
   "cell_type": "code",
   "execution_count": null,
   "id": "64e86097-0c9e-4a17-95e1-88acda2f613a",
   "metadata": {},
   "outputs": [],
   "source": []
  }
 ],
 "metadata": {
  "kernelspec": {
   "display_name": "Python [conda env:base] *",
   "language": "python",
   "name": "conda-base-py"
  },
  "language_info": {
   "codemirror_mode": {
    "name": "ipython",
    "version": 3
   },
   "file_extension": ".py",
   "mimetype": "text/x-python",
   "name": "python",
   "nbconvert_exporter": "python",
   "pygments_lexer": "ipython3",
   "version": "3.13.5"
  }
 },
 "nbformat": 4,
 "nbformat_minor": 5
}
