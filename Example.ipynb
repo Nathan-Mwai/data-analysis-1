{
 "cells": [
  {
   "cell_type": "markdown",
   "id": "79be4034-63f2-423c-a2ec-fcc59695e7cf",
   "metadata": {
    "jp-MarkdownHeadingCollapsed": true
   },
   "source": [
    "# Hello World"
   ]
  },
  {
   "cell_type": "code",
   "execution_count": 5,
   "id": "9edaed70-4d49-4df0-9889-eb7b46224075",
   "metadata": {},
   "outputs": [
    {
     "name": "stdout",
     "output_type": "stream",
     "text": [
      "Hello World\n"
     ]
    }
   ],
   "source": [
    "# printing my name\n",
    "print(\"Hello World\")"
   ]
  },
  {
   "cell_type": "code",
   "execution_count": 2,
   "id": "35150151-9f18-4b0c-9de0-fa8e7c745c54",
   "metadata": {},
   "outputs": [
    {
     "data": {
      "text/plain": [
       "'Hello World'"
      ]
     },
     "execution_count": 2,
     "metadata": {},
     "output_type": "execute_result"
    }
   ],
   "source": [
    "\"Hello World\""
   ]
  },
  {
   "cell_type": "code",
   "execution_count": 4,
   "id": "1082c9b4-5ad3-4780-905d-8789762eaf42",
   "metadata": {},
   "outputs": [
    {
     "name": "stdout",
     "output_type": "stream",
     "text": [
      "19\n"
     ]
    }
   ],
   "source": [
    "# printing my name\n",
    "print(19)"
   ]
  },
  {
   "cell_type": "code",
   "execution_count": null,
   "id": "e6b47809-ce62-40e5-b116-4a88bdd0bbc8",
   "metadata": {},
   "outputs": [],
   "source": []
  },
  {
   "cell_type": "code",
   "execution_count": null,
   "id": "d2a99361-afc1-4f1f-bb51-2278ca0030b3",
   "metadata": {},
   "outputs": [],
   "source": []
  },
  {
   "cell_type": "markdown",
   "id": "5baa9e67-4ae9-4ad1-83ab-0cb49d7bd3f6",
   "metadata": {
    "jp-MarkdownHeadingCollapsed": true
   },
   "source": [
    "# 2 Data Types"
   ]
  },
  {
   "cell_type": "code",
   "execution_count": 6,
   "id": "7740793f-8f3a-495b-a8fb-c7386a5bad03",
   "metadata": {},
   "outputs": [
    {
     "data": {
      "text/plain": [
       "str"
      ]
     },
     "execution_count": 6,
     "metadata": {},
     "output_type": "execute_result"
    }
   ],
   "source": [
    "type(\"Hello World\")"
   ]
  },
  {
   "cell_type": "code",
   "execution_count": 7,
   "id": "591d6563-f41e-41ec-a0a4-d8f65cbfa6ff",
   "metadata": {},
   "outputs": [
    {
     "data": {
      "text/plain": [
       "bool"
      ]
     },
     "execution_count": 7,
     "metadata": {},
     "output_type": "execute_result"
    }
   ],
   "source": [
    "type(False)"
   ]
  },
  {
   "cell_type": "code",
   "execution_count": 10,
   "id": "bdcfdc22-7b8e-4e02-8d81-411d430255f5",
   "metadata": {},
   "outputs": [
    {
     "name": "stdout",
     "output_type": "stream",
     "text": [
      "HELLO WORLD\n",
      "hello world\n",
      "Hello World\n"
     ]
    }
   ],
   "source": [
    "print (\"Hello World\".upper())\n",
    "print(\"Hello World\".lower())\n",
    "print (\"Hello World\".title())"
   ]
  },
  {
   "cell_type": "code",
   "execution_count": 11,
   "id": "9a6b123d-713b-4281-8f38-7f7cca66d839",
   "metadata": {},
   "outputs": [
    {
     "name": "stdout",
     "output_type": "stream",
     "text": [
      "3\n"
     ]
    }
   ],
   "source": [
    "print (\"Hello World\".count('l'))"
   ]
  },
  {
   "cell_type": "code",
   "execution_count": 12,
   "id": "56e5b061-6bcb-4c08-8cdb-9202dc70076b",
   "metadata": {},
   "outputs": [
    {
     "name": "stdout",
     "output_type": "stream",
     "text": [
      "Dello World\n"
     ]
    }
   ],
   "source": [
    "print (\"Hello World\".replace(\"H\",\"D\"))"
   ]
  },
  {
   "cell_type": "markdown",
   "id": "98e79e7f-ba7c-4a32-af04-ab0c35e0a6a5",
   "metadata": {
    "jp-MarkdownHeadingCollapsed": true
   },
   "source": [
    "# 3 Variables"
   ]
  },
  {
   "cell_type": "code",
   "execution_count": 13,
   "id": "22ddbc72-f3e3-4b4c-942e-5f17d664fa2e",
   "metadata": {},
   "outputs": [],
   "source": [
    "message_1 = \"I'm learning python\""
   ]
  },
  {
   "cell_type": "code",
   "execution_count": 14,
   "id": "19603ded-059b-4e4b-b0e6-be4db5747f60",
   "metadata": {},
   "outputs": [
    {
     "name": "stdout",
     "output_type": "stream",
     "text": [
      "I'm learning python\n"
     ]
    }
   ],
   "source": [
    "print(message_1)"
   ]
  },
  {
   "cell_type": "code",
   "execution_count": 22,
   "id": "be3b7466-e8f0-4883-888b-3bf27017ef76",
   "metadata": {},
   "outputs": [],
   "source": [
    "message_2 = \"and it's fun\""
   ]
  },
  {
   "cell_type": "code",
   "execution_count": 16,
   "id": "59a62398-296d-423b-8960-d7a84176a19d",
   "metadata": {},
   "outputs": [
    {
     "name": "stdout",
     "output_type": "stream",
     "text": [
      "And it's fun\n"
     ]
    }
   ],
   "source": [
    "print(message_2)"
   ]
  },
  {
   "cell_type": "code",
   "execution_count": 17,
   "id": "cbc5fc96-9641-4725-99f7-cf18e8c2793d",
   "metadata": {},
   "outputs": [
    {
     "name": "stdout",
     "output_type": "stream",
     "text": [
      "I'm learning pythonAnd it's fun\n"
     ]
    }
   ],
   "source": [
    "print(message_1 + message_2)"
   ]
  },
  {
   "cell_type": "code",
   "execution_count": 18,
   "id": "33e2e214-d241-439c-88ae-94b06adce208",
   "metadata": {},
   "outputs": [
    {
     "name": "stdout",
     "output_type": "stream",
     "text": [
      "I'm learning python And it's fun\n"
     ]
    }
   ],
   "source": [
    "print(message_1 +\" \"+ message_2)"
   ]
  },
  {
   "cell_type": "code",
   "execution_count": 19,
   "id": "0d59abcf-3276-45be-aa0f-e0ed23c287af",
   "metadata": {},
   "outputs": [
    {
     "data": {
      "text/plain": [
       "'Hello World'"
      ]
     },
     "execution_count": 19,
     "metadata": {},
     "output_type": "execute_result"
    }
   ],
   "source": [
    "f\"Hello World\""
   ]
  },
  {
   "cell_type": "code",
   "execution_count": 20,
   "id": "c7407c80-c6c3-4ed9-a647-87ef25e38e9e",
   "metadata": {},
   "outputs": [
    {
     "data": {
      "text/plain": [
       "\"I'm learning python\""
      ]
     },
     "execution_count": 20,
     "metadata": {},
     "output_type": "execute_result"
    }
   ],
   "source": [
    "f\"{message_1}\""
   ]
  },
  {
   "cell_type": "code",
   "execution_count": 23,
   "id": "f467bf35-b323-42b8-be5d-35741b65bf20",
   "metadata": {},
   "outputs": [
    {
     "data": {
      "text/plain": [
       "\"I'm learning python and it's fun\""
      ]
     },
     "execution_count": 23,
     "metadata": {},
     "output_type": "execute_result"
    }
   ],
   "source": [
    "f\"{message_1} {message_2}\""
   ]
  },
  {
   "cell_type": "markdown",
   "id": "3e4a70b4-840c-4793-aed1-1c6f04c941aa",
   "metadata": {},
   "source": [
    "# 4 List"
   ]
  },
  {
   "cell_type": "code",
   "execution_count": 40,
   "id": "50d7a2df-29f0-41bc-a023-d80daaf617a0",
   "metadata": {},
   "outputs": [],
   "source": [
    "countries = [\"Kenya\", \"US\", \"India\",\"China\", \"Japan\"]"
   ]
  },
  {
   "cell_type": "code",
   "execution_count": 25,
   "id": "a27997f1-328a-4d85-85a4-1e8d7fee1345",
   "metadata": {},
   "outputs": [
    {
     "data": {
      "text/plain": [
       "['Kenya', 'US', 'India', 'China', 'Japan']"
      ]
     },
     "execution_count": 25,
     "metadata": {},
     "output_type": "execute_result"
    }
   ],
   "source": [
    "countries"
   ]
  },
  {
   "cell_type": "code",
   "execution_count": 26,
   "id": "a5d08573-b53d-42c6-b471-c73403634066",
   "metadata": {},
   "outputs": [
    {
     "data": {
      "text/plain": [
       "'Kenya'"
      ]
     },
     "execution_count": 26,
     "metadata": {},
     "output_type": "execute_result"
    }
   ],
   "source": [
    "countries[0]"
   ]
  },
  {
   "cell_type": "code",
   "execution_count": 27,
   "id": "a816879e-f662-4548-ad30-4e95bc934067",
   "metadata": {},
   "outputs": [
    {
     "data": {
      "text/plain": [
       "'Japan'"
      ]
     },
     "execution_count": 27,
     "metadata": {},
     "output_type": "execute_result"
    }
   ],
   "source": [
    "countries[-1]"
   ]
  },
  {
   "cell_type": "code",
   "execution_count": 31,
   "id": "691e1ba1-4f4d-4850-802c-612ce3f5bae6",
   "metadata": {},
   "outputs": [],
   "source": [
    "# Slicing\n",
    "# list_name[start:stop] Does not include the last index"
   ]
  },
  {
   "cell_type": "code",
   "execution_count": 30,
   "id": "51913047-1c4c-4629-9ba9-e54426213630",
   "metadata": {},
   "outputs": [
    {
     "data": {
      "text/plain": [
       "['US', 'India']"
      ]
     },
     "execution_count": 30,
     "metadata": {},
     "output_type": "execute_result"
    }
   ],
   "source": [
    "countries[1:3]"
   ]
  },
  {
   "cell_type": "code",
   "execution_count": 32,
   "id": "0f4433f7-dd64-4716-a4a8-9ab00a981413",
   "metadata": {},
   "outputs": [
    {
     "data": {
      "text/plain": [
       "['US', 'India', 'China', 'Japan']"
      ]
     },
     "execution_count": 32,
     "metadata": {},
     "output_type": "execute_result"
    }
   ],
   "source": [
    "# Starts from index 1 and provides the rest\n",
    "countries[1:]"
   ]
  },
  {
   "cell_type": "markdown",
   "id": "0284e871-0fad-40e6-9bf9-894ec2361da8",
   "metadata": {
    "jp-MarkdownHeadingCollapsed": true
   },
   "source": [
    "## 4.0.1 Adding elements to a list"
   ]
  },
  {
   "cell_type": "code",
   "execution_count": 41,
   "id": "d4455c75-831f-4986-b5a8-1e02a8f04362",
   "metadata": {},
   "outputs": [
    {
     "data": {
      "text/plain": [
       "['Kenya', 'US', 'India', 'China', 'Japan']"
      ]
     },
     "execution_count": 41,
     "metadata": {},
     "output_type": "execute_result"
    }
   ],
   "source": [
    "countries"
   ]
  },
  {
   "cell_type": "code",
   "execution_count": 42,
   "id": "9623d86a-0fdd-4252-9c0a-5ebc8670e3e6",
   "metadata": {},
   "outputs": [],
   "source": [
    "# Add to the end\n",
    "countries.append(\"Botswana\")"
   ]
  },
  {
   "cell_type": "code",
   "execution_count": 43,
   "id": "33ec718c-329e-47c1-87b3-8fa5c3091475",
   "metadata": {},
   "outputs": [
    {
     "data": {
      "text/plain": [
       "['Kenya', 'US', 'India', 'China', 'Japan', 'Botswana']"
      ]
     },
     "execution_count": 43,
     "metadata": {},
     "output_type": "execute_result"
    }
   ],
   "source": [
    "countries"
   ]
  },
  {
   "cell_type": "code",
   "execution_count": 44,
   "id": "5f8802ce-11dc-42d1-a003-1f897b285ea6",
   "metadata": {},
   "outputs": [],
   "source": [
    "# Takes in 2 args and can insert where element gets specified place\n",
    "countries.insert(0,\"Tanzania\")"
   ]
  },
  {
   "cell_type": "code",
   "execution_count": 45,
   "id": "77d78b22-2e2f-4b31-8d53-08fa2ff57043",
   "metadata": {},
   "outputs": [
    {
     "data": {
      "text/plain": [
       "['Tanzania', 'Kenya', 'US', 'India', 'China', 'Japan', 'Botswana']"
      ]
     },
     "execution_count": 45,
     "metadata": {},
     "output_type": "execute_result"
    }
   ],
   "source": [
    "countries"
   ]
  },
  {
   "cell_type": "code",
   "execution_count": 46,
   "id": "fcd53fe9-5d4b-4bcd-be16-fe6fb3ba03f4",
   "metadata": {},
   "outputs": [],
   "source": [
    "countries_2 = [\"UK\", \"Germany\", \"Austria\"]"
   ]
  },
  {
   "cell_type": "code",
   "execution_count": 47,
   "id": "ddcb7223-cfd4-4a41-9011-3eb3ee5f6d68",
   "metadata": {},
   "outputs": [
    {
     "data": {
      "text/plain": [
       "['Tanzania',\n",
       " 'Kenya',\n",
       " 'US',\n",
       " 'India',\n",
       " 'China',\n",
       " 'Japan',\n",
       " 'Botswana',\n",
       " 'UK',\n",
       " 'Germany',\n",
       " 'Austria']"
      ]
     },
     "execution_count": 47,
     "metadata": {},
     "output_type": "execute_result"
    }
   ],
   "source": [
    "countries + countries_2"
   ]
  },
  {
   "cell_type": "code",
   "execution_count": 48,
   "id": "ba064eac-79ac-4142-805e-67840d5be18d",
   "metadata": {},
   "outputs": [],
   "source": [
    "nested_list = [countries, countries_2]"
   ]
  },
  {
   "cell_type": "code",
   "execution_count": 49,
   "id": "b3b59b34-c05b-4823-8f88-5f88d20547fa",
   "metadata": {},
   "outputs": [
    {
     "data": {
      "text/plain": [
       "[['Tanzania', 'Kenya', 'US', 'India', 'China', 'Japan', 'Botswana'],\n",
       " ['UK', 'Germany', 'Austria']]"
      ]
     },
     "execution_count": 49,
     "metadata": {},
     "output_type": "execute_result"
    }
   ],
   "source": [
    "nested_list"
   ]
  },
  {
   "cell_type": "markdown",
   "id": "b872a7b0-adf2-402d-837f-6e0a2cd31b99",
   "metadata": {
    "jp-MarkdownHeadingCollapsed": true
   },
   "source": [
    "## 4.0.2 Removingelements to a list"
   ]
  },
  {
   "cell_type": "code",
   "execution_count": 50,
   "id": "5d734fe1-a4cf-47c4-a5bd-9c2dd5e4eb46",
   "metadata": {},
   "outputs": [],
   "source": [
    "countries = [\"Kenya\", \"US\", \"India\",\"China\", \"Japan\"]"
   ]
  },
  {
   "cell_type": "code",
   "execution_count": 51,
   "id": "9fc05c30-28be-494f-89b4-42fe5792d24a",
   "metadata": {},
   "outputs": [],
   "source": [
    "countries.remove(\"US\")"
   ]
  },
  {
   "cell_type": "code",
   "execution_count": 52,
   "id": "831a2351-337a-4624-b27c-79ba1aada6d7",
   "metadata": {},
   "outputs": [
    {
     "data": {
      "text/plain": [
       "['Kenya', 'India', 'China', 'Japan']"
      ]
     },
     "execution_count": 52,
     "metadata": {},
     "output_type": "execute_result"
    }
   ],
   "source": [
    "countries"
   ]
  },
  {
   "cell_type": "code",
   "execution_count": 54,
   "id": "18f7eb69-ba58-49b2-bdf2-db2cd311dcac",
   "metadata": {},
   "outputs": [
    {
     "data": {
      "text/plain": [
       "'Japan'"
      ]
     },
     "execution_count": 54,
     "metadata": {},
     "output_type": "execute_result"
    }
   ],
   "source": [
    "# Remove by index\n",
    "countries.pop(-1)"
   ]
  },
  {
   "cell_type": "code",
   "execution_count": 55,
   "id": "c0bc213f-86ee-47b2-9174-60d504ed93a2",
   "metadata": {},
   "outputs": [
    {
     "data": {
      "text/plain": [
       "['Kenya', 'India', 'China']"
      ]
     },
     "execution_count": 55,
     "metadata": {},
     "output_type": "execute_result"
    }
   ],
   "source": [
    "countries"
   ]
  },
  {
   "cell_type": "code",
   "execution_count": 56,
   "id": "776934fe-585a-4433-bf87-2b3776bd370d",
   "metadata": {},
   "outputs": [],
   "source": [
    "del countries[1]"
   ]
  },
  {
   "cell_type": "code",
   "execution_count": 57,
   "id": "50caa0f9-eb21-44c9-b51d-878c54378f01",
   "metadata": {},
   "outputs": [
    {
     "data": {
      "text/plain": [
       "['Kenya', 'China']"
      ]
     },
     "execution_count": 57,
     "metadata": {},
     "output_type": "execute_result"
    }
   ],
   "source": [
    "countries"
   ]
  },
  {
   "cell_type": "markdown",
   "id": "b6af778f-3a69-4851-9df0-274a80eb35d7",
   "metadata": {},
   "source": [
    "## 4.0.3  Sorting a list"
   ]
  },
  {
   "cell_type": "code",
   "execution_count": null,
   "id": "7cfcbbd1-4f9f-46af-8a3e-3e09d81a9d0d",
   "metadata": {},
   "outputs": [],
   "source": []
  }
 ],
 "metadata": {
  "kernelspec": {
   "display_name": "Python [conda env:base] *",
   "language": "python",
   "name": "conda-base-py"
  },
  "language_info": {
   "codemirror_mode": {
    "name": "ipython",
    "version": 3
   },
   "file_extension": ".py",
   "mimetype": "text/x-python",
   "name": "python",
   "nbconvert_exporter": "python",
   "pygments_lexer": "ipython3",
   "version": "3.13.5"
  }
 },
 "nbformat": 4,
 "nbformat_minor": 5
}
